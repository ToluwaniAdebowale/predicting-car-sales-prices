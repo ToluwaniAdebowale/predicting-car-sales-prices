{
 "cells": [
  {
   "cell_type": "code",
   "execution_count": 2,
   "metadata": {},
   "outputs": [],
   "source": [
    "import pandas as pd\n",
    "import numpy as np\n",
    "\n",
    "from sklearn.model_selection import cross_val_score\n",
    "from sklearn.neighbors import KNeighborsRegressor\n",
    "from sklearn.metrics import mean_squared_error\n",
    "\n",
    "import matplotlib.pyplot as plt"
   ]
  },
  {
   "cell_type": "code",
   "execution_count": 3,
   "metadata": {},
   "outputs": [],
   "source": [
    "cols = ['symboling', 'normalized-losses', 'make', 'fuel-type', 'aspiration', \n",
    "        'num-of-doors', 'body-style', 'drive-wheels', 'engine-location', \n",
    "        'wheel-base', 'length', 'width', 'height', 'curb-weight', 'engine-type', \n",
    "        'num-of-cylinders', 'engine-size', 'fuel-system', 'bore', 'stroke', \n",
    "        'compression-rate', 'horsepower', 'peak-rpm', 'city-mpg', 'highway-mpg', 'price']\n",
    "cars = pd.read_csv('imports-85.data', names=cols)"
   ]
  },
  {
   "cell_type": "code",
   "execution_count": 4,
   "metadata": {},
   "outputs": [
    {
     "data": {
      "text/html": [
       "<div>\n",
       "<style scoped>\n",
       "    .dataframe tbody tr th:only-of-type {\n",
       "        vertical-align: middle;\n",
       "    }\n",
       "\n",
       "    .dataframe tbody tr th {\n",
       "        vertical-align: top;\n",
       "    }\n",
       "\n",
       "    .dataframe thead th {\n",
       "        text-align: right;\n",
       "    }\n",
       "</style>\n",
       "<table border=\"1\" class=\"dataframe\">\n",
       "  <thead>\n",
       "    <tr style=\"text-align: right;\">\n",
       "      <th></th>\n",
       "      <th>symboling</th>\n",
       "      <th>normalized-losses</th>\n",
       "      <th>make</th>\n",
       "      <th>fuel-type</th>\n",
       "      <th>aspiration</th>\n",
       "      <th>num-of-doors</th>\n",
       "      <th>body-style</th>\n",
       "      <th>drive-wheels</th>\n",
       "      <th>engine-location</th>\n",
       "      <th>wheel-base</th>\n",
       "      <th>...</th>\n",
       "      <th>engine-size</th>\n",
       "      <th>fuel-system</th>\n",
       "      <th>bore</th>\n",
       "      <th>stroke</th>\n",
       "      <th>compression-rate</th>\n",
       "      <th>horsepower</th>\n",
       "      <th>peak-rpm</th>\n",
       "      <th>city-mpg</th>\n",
       "      <th>highway-mpg</th>\n",
       "      <th>price</th>\n",
       "    </tr>\n",
       "  </thead>\n",
       "  <tbody>\n",
       "    <tr>\n",
       "      <th>0</th>\n",
       "      <td>3</td>\n",
       "      <td>?</td>\n",
       "      <td>alfa-romero</td>\n",
       "      <td>gas</td>\n",
       "      <td>std</td>\n",
       "      <td>two</td>\n",
       "      <td>convertible</td>\n",
       "      <td>rwd</td>\n",
       "      <td>front</td>\n",
       "      <td>88.6</td>\n",
       "      <td>...</td>\n",
       "      <td>130</td>\n",
       "      <td>mpfi</td>\n",
       "      <td>3.47</td>\n",
       "      <td>2.68</td>\n",
       "      <td>9.0</td>\n",
       "      <td>111</td>\n",
       "      <td>5000</td>\n",
       "      <td>21</td>\n",
       "      <td>27</td>\n",
       "      <td>13495</td>\n",
       "    </tr>\n",
       "    <tr>\n",
       "      <th>1</th>\n",
       "      <td>3</td>\n",
       "      <td>?</td>\n",
       "      <td>alfa-romero</td>\n",
       "      <td>gas</td>\n",
       "      <td>std</td>\n",
       "      <td>two</td>\n",
       "      <td>convertible</td>\n",
       "      <td>rwd</td>\n",
       "      <td>front</td>\n",
       "      <td>88.6</td>\n",
       "      <td>...</td>\n",
       "      <td>130</td>\n",
       "      <td>mpfi</td>\n",
       "      <td>3.47</td>\n",
       "      <td>2.68</td>\n",
       "      <td>9.0</td>\n",
       "      <td>111</td>\n",
       "      <td>5000</td>\n",
       "      <td>21</td>\n",
       "      <td>27</td>\n",
       "      <td>16500</td>\n",
       "    </tr>\n",
       "    <tr>\n",
       "      <th>2</th>\n",
       "      <td>1</td>\n",
       "      <td>?</td>\n",
       "      <td>alfa-romero</td>\n",
       "      <td>gas</td>\n",
       "      <td>std</td>\n",
       "      <td>two</td>\n",
       "      <td>hatchback</td>\n",
       "      <td>rwd</td>\n",
       "      <td>front</td>\n",
       "      <td>94.5</td>\n",
       "      <td>...</td>\n",
       "      <td>152</td>\n",
       "      <td>mpfi</td>\n",
       "      <td>2.68</td>\n",
       "      <td>3.47</td>\n",
       "      <td>9.0</td>\n",
       "      <td>154</td>\n",
       "      <td>5000</td>\n",
       "      <td>19</td>\n",
       "      <td>26</td>\n",
       "      <td>16500</td>\n",
       "    </tr>\n",
       "    <tr>\n",
       "      <th>3</th>\n",
       "      <td>2</td>\n",
       "      <td>164</td>\n",
       "      <td>audi</td>\n",
       "      <td>gas</td>\n",
       "      <td>std</td>\n",
       "      <td>four</td>\n",
       "      <td>sedan</td>\n",
       "      <td>fwd</td>\n",
       "      <td>front</td>\n",
       "      <td>99.8</td>\n",
       "      <td>...</td>\n",
       "      <td>109</td>\n",
       "      <td>mpfi</td>\n",
       "      <td>3.19</td>\n",
       "      <td>3.40</td>\n",
       "      <td>10.0</td>\n",
       "      <td>102</td>\n",
       "      <td>5500</td>\n",
       "      <td>24</td>\n",
       "      <td>30</td>\n",
       "      <td>13950</td>\n",
       "    </tr>\n",
       "    <tr>\n",
       "      <th>4</th>\n",
       "      <td>2</td>\n",
       "      <td>164</td>\n",
       "      <td>audi</td>\n",
       "      <td>gas</td>\n",
       "      <td>std</td>\n",
       "      <td>four</td>\n",
       "      <td>sedan</td>\n",
       "      <td>4wd</td>\n",
       "      <td>front</td>\n",
       "      <td>99.4</td>\n",
       "      <td>...</td>\n",
       "      <td>136</td>\n",
       "      <td>mpfi</td>\n",
       "      <td>3.19</td>\n",
       "      <td>3.40</td>\n",
       "      <td>8.0</td>\n",
       "      <td>115</td>\n",
       "      <td>5500</td>\n",
       "      <td>18</td>\n",
       "      <td>22</td>\n",
       "      <td>17450</td>\n",
       "    </tr>\n",
       "    <tr>\n",
       "      <th>...</th>\n",
       "      <td>...</td>\n",
       "      <td>...</td>\n",
       "      <td>...</td>\n",
       "      <td>...</td>\n",
       "      <td>...</td>\n",
       "      <td>...</td>\n",
       "      <td>...</td>\n",
       "      <td>...</td>\n",
       "      <td>...</td>\n",
       "      <td>...</td>\n",
       "      <td>...</td>\n",
       "      <td>...</td>\n",
       "      <td>...</td>\n",
       "      <td>...</td>\n",
       "      <td>...</td>\n",
       "      <td>...</td>\n",
       "      <td>...</td>\n",
       "      <td>...</td>\n",
       "      <td>...</td>\n",
       "      <td>...</td>\n",
       "      <td>...</td>\n",
       "    </tr>\n",
       "    <tr>\n",
       "      <th>200</th>\n",
       "      <td>-1</td>\n",
       "      <td>95</td>\n",
       "      <td>volvo</td>\n",
       "      <td>gas</td>\n",
       "      <td>std</td>\n",
       "      <td>four</td>\n",
       "      <td>sedan</td>\n",
       "      <td>rwd</td>\n",
       "      <td>front</td>\n",
       "      <td>109.1</td>\n",
       "      <td>...</td>\n",
       "      <td>141</td>\n",
       "      <td>mpfi</td>\n",
       "      <td>3.78</td>\n",
       "      <td>3.15</td>\n",
       "      <td>9.5</td>\n",
       "      <td>114</td>\n",
       "      <td>5400</td>\n",
       "      <td>23</td>\n",
       "      <td>28</td>\n",
       "      <td>16845</td>\n",
       "    </tr>\n",
       "    <tr>\n",
       "      <th>201</th>\n",
       "      <td>-1</td>\n",
       "      <td>95</td>\n",
       "      <td>volvo</td>\n",
       "      <td>gas</td>\n",
       "      <td>turbo</td>\n",
       "      <td>four</td>\n",
       "      <td>sedan</td>\n",
       "      <td>rwd</td>\n",
       "      <td>front</td>\n",
       "      <td>109.1</td>\n",
       "      <td>...</td>\n",
       "      <td>141</td>\n",
       "      <td>mpfi</td>\n",
       "      <td>3.78</td>\n",
       "      <td>3.15</td>\n",
       "      <td>8.7</td>\n",
       "      <td>160</td>\n",
       "      <td>5300</td>\n",
       "      <td>19</td>\n",
       "      <td>25</td>\n",
       "      <td>19045</td>\n",
       "    </tr>\n",
       "    <tr>\n",
       "      <th>202</th>\n",
       "      <td>-1</td>\n",
       "      <td>95</td>\n",
       "      <td>volvo</td>\n",
       "      <td>gas</td>\n",
       "      <td>std</td>\n",
       "      <td>four</td>\n",
       "      <td>sedan</td>\n",
       "      <td>rwd</td>\n",
       "      <td>front</td>\n",
       "      <td>109.1</td>\n",
       "      <td>...</td>\n",
       "      <td>173</td>\n",
       "      <td>mpfi</td>\n",
       "      <td>3.58</td>\n",
       "      <td>2.87</td>\n",
       "      <td>8.8</td>\n",
       "      <td>134</td>\n",
       "      <td>5500</td>\n",
       "      <td>18</td>\n",
       "      <td>23</td>\n",
       "      <td>21485</td>\n",
       "    </tr>\n",
       "    <tr>\n",
       "      <th>203</th>\n",
       "      <td>-1</td>\n",
       "      <td>95</td>\n",
       "      <td>volvo</td>\n",
       "      <td>diesel</td>\n",
       "      <td>turbo</td>\n",
       "      <td>four</td>\n",
       "      <td>sedan</td>\n",
       "      <td>rwd</td>\n",
       "      <td>front</td>\n",
       "      <td>109.1</td>\n",
       "      <td>...</td>\n",
       "      <td>145</td>\n",
       "      <td>idi</td>\n",
       "      <td>3.01</td>\n",
       "      <td>3.40</td>\n",
       "      <td>23.0</td>\n",
       "      <td>106</td>\n",
       "      <td>4800</td>\n",
       "      <td>26</td>\n",
       "      <td>27</td>\n",
       "      <td>22470</td>\n",
       "    </tr>\n",
       "    <tr>\n",
       "      <th>204</th>\n",
       "      <td>-1</td>\n",
       "      <td>95</td>\n",
       "      <td>volvo</td>\n",
       "      <td>gas</td>\n",
       "      <td>turbo</td>\n",
       "      <td>four</td>\n",
       "      <td>sedan</td>\n",
       "      <td>rwd</td>\n",
       "      <td>front</td>\n",
       "      <td>109.1</td>\n",
       "      <td>...</td>\n",
       "      <td>141</td>\n",
       "      <td>mpfi</td>\n",
       "      <td>3.78</td>\n",
       "      <td>3.15</td>\n",
       "      <td>9.5</td>\n",
       "      <td>114</td>\n",
       "      <td>5400</td>\n",
       "      <td>19</td>\n",
       "      <td>25</td>\n",
       "      <td>22625</td>\n",
       "    </tr>\n",
       "  </tbody>\n",
       "</table>\n",
       "<p>205 rows × 26 columns</p>\n",
       "</div>"
      ],
      "text/plain": [
       "     symboling normalized-losses         make fuel-type aspiration  \\\n",
       "0            3                 ?  alfa-romero       gas        std   \n",
       "1            3                 ?  alfa-romero       gas        std   \n",
       "2            1                 ?  alfa-romero       gas        std   \n",
       "3            2               164         audi       gas        std   \n",
       "4            2               164         audi       gas        std   \n",
       "..         ...               ...          ...       ...        ...   \n",
       "200         -1                95        volvo       gas        std   \n",
       "201         -1                95        volvo       gas      turbo   \n",
       "202         -1                95        volvo       gas        std   \n",
       "203         -1                95        volvo    diesel      turbo   \n",
       "204         -1                95        volvo       gas      turbo   \n",
       "\n",
       "    num-of-doors   body-style drive-wheels engine-location  wheel-base  ...  \\\n",
       "0            two  convertible          rwd           front        88.6  ...   \n",
       "1            two  convertible          rwd           front        88.6  ...   \n",
       "2            two    hatchback          rwd           front        94.5  ...   \n",
       "3           four        sedan          fwd           front        99.8  ...   \n",
       "4           four        sedan          4wd           front        99.4  ...   \n",
       "..           ...          ...          ...             ...         ...  ...   \n",
       "200         four        sedan          rwd           front       109.1  ...   \n",
       "201         four        sedan          rwd           front       109.1  ...   \n",
       "202         four        sedan          rwd           front       109.1  ...   \n",
       "203         four        sedan          rwd           front       109.1  ...   \n",
       "204         four        sedan          rwd           front       109.1  ...   \n",
       "\n",
       "     engine-size  fuel-system  bore  stroke compression-rate horsepower  \\\n",
       "0            130         mpfi  3.47    2.68              9.0        111   \n",
       "1            130         mpfi  3.47    2.68              9.0        111   \n",
       "2            152         mpfi  2.68    3.47              9.0        154   \n",
       "3            109         mpfi  3.19    3.40             10.0        102   \n",
       "4            136         mpfi  3.19    3.40              8.0        115   \n",
       "..           ...          ...   ...     ...              ...        ...   \n",
       "200          141         mpfi  3.78    3.15              9.5        114   \n",
       "201          141         mpfi  3.78    3.15              8.7        160   \n",
       "202          173         mpfi  3.58    2.87              8.8        134   \n",
       "203          145          idi  3.01    3.40             23.0        106   \n",
       "204          141         mpfi  3.78    3.15              9.5        114   \n",
       "\n",
       "     peak-rpm city-mpg highway-mpg  price  \n",
       "0        5000       21          27  13495  \n",
       "1        5000       21          27  16500  \n",
       "2        5000       19          26  16500  \n",
       "3        5500       24          30  13950  \n",
       "4        5500       18          22  17450  \n",
       "..        ...      ...         ...    ...  \n",
       "200      5400       23          28  16845  \n",
       "201      5300       19          25  19045  \n",
       "202      5500       18          23  21485  \n",
       "203      4800       26          27  22470  \n",
       "204      5400       19          25  22625  \n",
       "\n",
       "[205 rows x 26 columns]"
      ]
     },
     "execution_count": 4,
     "metadata": {},
     "output_type": "execute_result"
    }
   ],
   "source": [
    "cars"
   ]
  },
  {
   "cell_type": "code",
   "execution_count": 5,
   "metadata": {},
   "outputs": [
    {
     "name": "stdout",
     "output_type": "stream",
     "text": [
      "<class 'pandas.core.frame.DataFrame'>\n",
      "RangeIndex: 205 entries, 0 to 204\n",
      "Data columns (total 26 columns):\n",
      " #   Column             Non-Null Count  Dtype  \n",
      "---  ------             --------------  -----  \n",
      " 0   symboling          205 non-null    int64  \n",
      " 1   normalized-losses  205 non-null    object \n",
      " 2   make               205 non-null    object \n",
      " 3   fuel-type          205 non-null    object \n",
      " 4   aspiration         205 non-null    object \n",
      " 5   num-of-doors       205 non-null    object \n",
      " 6   body-style         205 non-null    object \n",
      " 7   drive-wheels       205 non-null    object \n",
      " 8   engine-location    205 non-null    object \n",
      " 9   wheel-base         205 non-null    float64\n",
      " 10  length             205 non-null    float64\n",
      " 11  width              205 non-null    float64\n",
      " 12  height             205 non-null    float64\n",
      " 13  curb-weight        205 non-null    int64  \n",
      " 14  engine-type        205 non-null    object \n",
      " 15  num-of-cylinders   205 non-null    object \n",
      " 16  engine-size        205 non-null    int64  \n",
      " 17  fuel-system        205 non-null    object \n",
      " 18  bore               205 non-null    object \n",
      " 19  stroke             205 non-null    object \n",
      " 20  compression-rate   205 non-null    float64\n",
      " 21  horsepower         205 non-null    object \n",
      " 22  peak-rpm           205 non-null    object \n",
      " 23  city-mpg           205 non-null    int64  \n",
      " 24  highway-mpg        205 non-null    int64  \n",
      " 25  price              205 non-null    object \n",
      "dtypes: float64(5), int64(5), object(16)\n",
      "memory usage: 41.8+ KB\n"
     ]
    }
   ],
   "source": [
    "cars.info()"
   ]
  },
  {
   "cell_type": "markdown",
   "metadata": {},
   "source": [
    "# CLEANING THE DATA"
   ]
  },
  {
   "cell_type": "code",
   "execution_count": 6,
   "metadata": {},
   "outputs": [],
   "source": [
    "#columns to keep\n",
    "columns = ['symboling','normalized-losses','num-of-doors','wheel-base',\n",
    "           'length', 'width','height','curb-weight','num-of-cylinders',\n",
    "           'engine-size','bore','stroke','compression-rate','horsepower',\n",
    "           'peak-rpm','city-mpg', 'highway-mpg', 'price']"
   ]
  },
  {
   "cell_type": "code",
   "execution_count": 7,
   "metadata": {},
   "outputs": [],
   "source": [
    "cars_numeric = cars[columns]"
   ]
  },
  {
   "cell_type": "code",
   "execution_count": 8,
   "metadata": {},
   "outputs": [],
   "source": [
    "cars_numeric = cars_numeric.replace('?',np.nan)"
   ]
  },
  {
   "cell_type": "code",
   "execution_count": 9,
   "metadata": {},
   "outputs": [
    {
     "name": "stdout",
     "output_type": "stream",
     "text": [
      "<class 'pandas.core.frame.DataFrame'>\n",
      "RangeIndex: 205 entries, 0 to 204\n",
      "Data columns (total 18 columns):\n",
      " #   Column             Non-Null Count  Dtype  \n",
      "---  ------             --------------  -----  \n",
      " 0   symboling          205 non-null    int64  \n",
      " 1   normalized-losses  164 non-null    object \n",
      " 2   num-of-doors       203 non-null    object \n",
      " 3   wheel-base         205 non-null    float64\n",
      " 4   length             205 non-null    float64\n",
      " 5   width              205 non-null    float64\n",
      " 6   height             205 non-null    float64\n",
      " 7   curb-weight        205 non-null    int64  \n",
      " 8   num-of-cylinders   205 non-null    object \n",
      " 9   engine-size        205 non-null    int64  \n",
      " 10  bore               201 non-null    object \n",
      " 11  stroke             201 non-null    object \n",
      " 12  compression-rate   205 non-null    float64\n",
      " 13  horsepower         203 non-null    object \n",
      " 14  peak-rpm           203 non-null    object \n",
      " 15  city-mpg           205 non-null    int64  \n",
      " 16  highway-mpg        205 non-null    int64  \n",
      " 17  price              201 non-null    object \n",
      "dtypes: float64(5), int64(5), object(8)\n",
      "memory usage: 29.0+ KB\n"
     ]
    }
   ],
   "source": [
    "cars_numeric.info()"
   ]
  },
  {
   "cell_type": "code",
   "execution_count": 10,
   "metadata": {},
   "outputs": [
    {
     "data": {
      "text/html": [
       "<div>\n",
       "<style scoped>\n",
       "    .dataframe tbody tr th:only-of-type {\n",
       "        vertical-align: middle;\n",
       "    }\n",
       "\n",
       "    .dataframe tbody tr th {\n",
       "        vertical-align: top;\n",
       "    }\n",
       "\n",
       "    .dataframe thead th {\n",
       "        text-align: right;\n",
       "    }\n",
       "</style>\n",
       "<table border=\"1\" class=\"dataframe\">\n",
       "  <thead>\n",
       "    <tr style=\"text-align: right;\">\n",
       "      <th></th>\n",
       "      <th>symboling</th>\n",
       "      <th>normalized-losses</th>\n",
       "      <th>num-of-doors</th>\n",
       "      <th>wheel-base</th>\n",
       "      <th>length</th>\n",
       "      <th>width</th>\n",
       "      <th>height</th>\n",
       "      <th>curb-weight</th>\n",
       "      <th>num-of-cylinders</th>\n",
       "      <th>engine-size</th>\n",
       "      <th>bore</th>\n",
       "      <th>stroke</th>\n",
       "      <th>compression-rate</th>\n",
       "      <th>horsepower</th>\n",
       "      <th>peak-rpm</th>\n",
       "      <th>city-mpg</th>\n",
       "      <th>highway-mpg</th>\n",
       "      <th>price</th>\n",
       "    </tr>\n",
       "  </thead>\n",
       "  <tbody>\n",
       "    <tr>\n",
       "      <th>0</th>\n",
       "      <td>3</td>\n",
       "      <td>NaN</td>\n",
       "      <td>two</td>\n",
       "      <td>88.6</td>\n",
       "      <td>168.8</td>\n",
       "      <td>64.1</td>\n",
       "      <td>48.8</td>\n",
       "      <td>2548</td>\n",
       "      <td>four</td>\n",
       "      <td>130</td>\n",
       "      <td>3.47</td>\n",
       "      <td>2.68</td>\n",
       "      <td>9.0</td>\n",
       "      <td>111</td>\n",
       "      <td>5000</td>\n",
       "      <td>21</td>\n",
       "      <td>27</td>\n",
       "      <td>13495</td>\n",
       "    </tr>\n",
       "    <tr>\n",
       "      <th>1</th>\n",
       "      <td>3</td>\n",
       "      <td>NaN</td>\n",
       "      <td>two</td>\n",
       "      <td>88.6</td>\n",
       "      <td>168.8</td>\n",
       "      <td>64.1</td>\n",
       "      <td>48.8</td>\n",
       "      <td>2548</td>\n",
       "      <td>four</td>\n",
       "      <td>130</td>\n",
       "      <td>3.47</td>\n",
       "      <td>2.68</td>\n",
       "      <td>9.0</td>\n",
       "      <td>111</td>\n",
       "      <td>5000</td>\n",
       "      <td>21</td>\n",
       "      <td>27</td>\n",
       "      <td>16500</td>\n",
       "    </tr>\n",
       "    <tr>\n",
       "      <th>2</th>\n",
       "      <td>1</td>\n",
       "      <td>NaN</td>\n",
       "      <td>two</td>\n",
       "      <td>94.5</td>\n",
       "      <td>171.2</td>\n",
       "      <td>65.5</td>\n",
       "      <td>52.4</td>\n",
       "      <td>2823</td>\n",
       "      <td>six</td>\n",
       "      <td>152</td>\n",
       "      <td>2.68</td>\n",
       "      <td>3.47</td>\n",
       "      <td>9.0</td>\n",
       "      <td>154</td>\n",
       "      <td>5000</td>\n",
       "      <td>19</td>\n",
       "      <td>26</td>\n",
       "      <td>16500</td>\n",
       "    </tr>\n",
       "    <tr>\n",
       "      <th>3</th>\n",
       "      <td>2</td>\n",
       "      <td>164</td>\n",
       "      <td>four</td>\n",
       "      <td>99.8</td>\n",
       "      <td>176.6</td>\n",
       "      <td>66.2</td>\n",
       "      <td>54.3</td>\n",
       "      <td>2337</td>\n",
       "      <td>four</td>\n",
       "      <td>109</td>\n",
       "      <td>3.19</td>\n",
       "      <td>3.40</td>\n",
       "      <td>10.0</td>\n",
       "      <td>102</td>\n",
       "      <td>5500</td>\n",
       "      <td>24</td>\n",
       "      <td>30</td>\n",
       "      <td>13950</td>\n",
       "    </tr>\n",
       "    <tr>\n",
       "      <th>4</th>\n",
       "      <td>2</td>\n",
       "      <td>164</td>\n",
       "      <td>four</td>\n",
       "      <td>99.4</td>\n",
       "      <td>176.6</td>\n",
       "      <td>66.4</td>\n",
       "      <td>54.3</td>\n",
       "      <td>2824</td>\n",
       "      <td>five</td>\n",
       "      <td>136</td>\n",
       "      <td>3.19</td>\n",
       "      <td>3.40</td>\n",
       "      <td>8.0</td>\n",
       "      <td>115</td>\n",
       "      <td>5500</td>\n",
       "      <td>18</td>\n",
       "      <td>22</td>\n",
       "      <td>17450</td>\n",
       "    </tr>\n",
       "    <tr>\n",
       "      <th>...</th>\n",
       "      <td>...</td>\n",
       "      <td>...</td>\n",
       "      <td>...</td>\n",
       "      <td>...</td>\n",
       "      <td>...</td>\n",
       "      <td>...</td>\n",
       "      <td>...</td>\n",
       "      <td>...</td>\n",
       "      <td>...</td>\n",
       "      <td>...</td>\n",
       "      <td>...</td>\n",
       "      <td>...</td>\n",
       "      <td>...</td>\n",
       "      <td>...</td>\n",
       "      <td>...</td>\n",
       "      <td>...</td>\n",
       "      <td>...</td>\n",
       "      <td>...</td>\n",
       "    </tr>\n",
       "    <tr>\n",
       "      <th>200</th>\n",
       "      <td>-1</td>\n",
       "      <td>95</td>\n",
       "      <td>four</td>\n",
       "      <td>109.1</td>\n",
       "      <td>188.8</td>\n",
       "      <td>68.9</td>\n",
       "      <td>55.5</td>\n",
       "      <td>2952</td>\n",
       "      <td>four</td>\n",
       "      <td>141</td>\n",
       "      <td>3.78</td>\n",
       "      <td>3.15</td>\n",
       "      <td>9.5</td>\n",
       "      <td>114</td>\n",
       "      <td>5400</td>\n",
       "      <td>23</td>\n",
       "      <td>28</td>\n",
       "      <td>16845</td>\n",
       "    </tr>\n",
       "    <tr>\n",
       "      <th>201</th>\n",
       "      <td>-1</td>\n",
       "      <td>95</td>\n",
       "      <td>four</td>\n",
       "      <td>109.1</td>\n",
       "      <td>188.8</td>\n",
       "      <td>68.8</td>\n",
       "      <td>55.5</td>\n",
       "      <td>3049</td>\n",
       "      <td>four</td>\n",
       "      <td>141</td>\n",
       "      <td>3.78</td>\n",
       "      <td>3.15</td>\n",
       "      <td>8.7</td>\n",
       "      <td>160</td>\n",
       "      <td>5300</td>\n",
       "      <td>19</td>\n",
       "      <td>25</td>\n",
       "      <td>19045</td>\n",
       "    </tr>\n",
       "    <tr>\n",
       "      <th>202</th>\n",
       "      <td>-1</td>\n",
       "      <td>95</td>\n",
       "      <td>four</td>\n",
       "      <td>109.1</td>\n",
       "      <td>188.8</td>\n",
       "      <td>68.9</td>\n",
       "      <td>55.5</td>\n",
       "      <td>3012</td>\n",
       "      <td>six</td>\n",
       "      <td>173</td>\n",
       "      <td>3.58</td>\n",
       "      <td>2.87</td>\n",
       "      <td>8.8</td>\n",
       "      <td>134</td>\n",
       "      <td>5500</td>\n",
       "      <td>18</td>\n",
       "      <td>23</td>\n",
       "      <td>21485</td>\n",
       "    </tr>\n",
       "    <tr>\n",
       "      <th>203</th>\n",
       "      <td>-1</td>\n",
       "      <td>95</td>\n",
       "      <td>four</td>\n",
       "      <td>109.1</td>\n",
       "      <td>188.8</td>\n",
       "      <td>68.9</td>\n",
       "      <td>55.5</td>\n",
       "      <td>3217</td>\n",
       "      <td>six</td>\n",
       "      <td>145</td>\n",
       "      <td>3.01</td>\n",
       "      <td>3.40</td>\n",
       "      <td>23.0</td>\n",
       "      <td>106</td>\n",
       "      <td>4800</td>\n",
       "      <td>26</td>\n",
       "      <td>27</td>\n",
       "      <td>22470</td>\n",
       "    </tr>\n",
       "    <tr>\n",
       "      <th>204</th>\n",
       "      <td>-1</td>\n",
       "      <td>95</td>\n",
       "      <td>four</td>\n",
       "      <td>109.1</td>\n",
       "      <td>188.8</td>\n",
       "      <td>68.9</td>\n",
       "      <td>55.5</td>\n",
       "      <td>3062</td>\n",
       "      <td>four</td>\n",
       "      <td>141</td>\n",
       "      <td>3.78</td>\n",
       "      <td>3.15</td>\n",
       "      <td>9.5</td>\n",
       "      <td>114</td>\n",
       "      <td>5400</td>\n",
       "      <td>19</td>\n",
       "      <td>25</td>\n",
       "      <td>22625</td>\n",
       "    </tr>\n",
       "  </tbody>\n",
       "</table>\n",
       "<p>205 rows × 18 columns</p>\n",
       "</div>"
      ],
      "text/plain": [
       "     symboling normalized-losses num-of-doors  wheel-base  length  width  \\\n",
       "0            3               NaN          two        88.6   168.8   64.1   \n",
       "1            3               NaN          two        88.6   168.8   64.1   \n",
       "2            1               NaN          two        94.5   171.2   65.5   \n",
       "3            2               164         four        99.8   176.6   66.2   \n",
       "4            2               164         four        99.4   176.6   66.4   \n",
       "..         ...               ...          ...         ...     ...    ...   \n",
       "200         -1                95         four       109.1   188.8   68.9   \n",
       "201         -1                95         four       109.1   188.8   68.8   \n",
       "202         -1                95         four       109.1   188.8   68.9   \n",
       "203         -1                95         four       109.1   188.8   68.9   \n",
       "204         -1                95         four       109.1   188.8   68.9   \n",
       "\n",
       "     height  curb-weight num-of-cylinders  engine-size  bore stroke  \\\n",
       "0      48.8         2548             four          130  3.47   2.68   \n",
       "1      48.8         2548             four          130  3.47   2.68   \n",
       "2      52.4         2823              six          152  2.68   3.47   \n",
       "3      54.3         2337             four          109  3.19   3.40   \n",
       "4      54.3         2824             five          136  3.19   3.40   \n",
       "..      ...          ...              ...          ...   ...    ...   \n",
       "200    55.5         2952             four          141  3.78   3.15   \n",
       "201    55.5         3049             four          141  3.78   3.15   \n",
       "202    55.5         3012              six          173  3.58   2.87   \n",
       "203    55.5         3217              six          145  3.01   3.40   \n",
       "204    55.5         3062             four          141  3.78   3.15   \n",
       "\n",
       "     compression-rate horsepower peak-rpm  city-mpg  highway-mpg  price  \n",
       "0                 9.0        111     5000        21           27  13495  \n",
       "1                 9.0        111     5000        21           27  16500  \n",
       "2                 9.0        154     5000        19           26  16500  \n",
       "3                10.0        102     5500        24           30  13950  \n",
       "4                 8.0        115     5500        18           22  17450  \n",
       "..                ...        ...      ...       ...          ...    ...  \n",
       "200               9.5        114     5400        23           28  16845  \n",
       "201               8.7        160     5300        19           25  19045  \n",
       "202               8.8        134     5500        18           23  21485  \n",
       "203              23.0        106     4800        26           27  22470  \n",
       "204               9.5        114     5400        19           25  22625  \n",
       "\n",
       "[205 rows x 18 columns]"
      ]
     },
     "execution_count": 10,
     "metadata": {},
     "output_type": "execute_result"
    }
   ],
   "source": [
    "cars_numeric"
   ]
  },
  {
   "cell_type": "code",
   "execution_count": 11,
   "metadata": {},
   "outputs": [],
   "source": [
    "cars_numeric[['normalized-losses', 'bore', 'stroke', 'horsepower', 'peak-rpm', 'price']] = cars_numeric[['normalized-losses', 'bore', 'stroke', 'horsepower', 'peak-rpm', 'price']].astype(float)"
   ]
  },
  {
   "cell_type": "code",
   "execution_count": 12,
   "metadata": {},
   "outputs": [
    {
     "data": {
      "text/plain": [
       "four      159\n",
       "six        24\n",
       "five       11\n",
       "eight       5\n",
       "two         4\n",
       "twelve      1\n",
       "three       1\n",
       "Name: num-of-cylinders, dtype: int64"
      ]
     },
     "execution_count": 12,
     "metadata": {},
     "output_type": "execute_result"
    }
   ],
   "source": [
    "cars_numeric['num-of-cylinders'].value_counts()"
   ]
  },
  {
   "cell_type": "code",
   "execution_count": 13,
   "metadata": {},
   "outputs": [],
   "source": [
    "to_map = {'four':4, 'six':6, 'five':5, 'eight':8, 'two':2, 'twelve':12, 'three':3}"
   ]
  },
  {
   "cell_type": "code",
   "execution_count": 14,
   "metadata": {},
   "outputs": [],
   "source": [
    "cars_numeric['num-of-cylinders'] = cars_numeric['num-of-cylinders'].map(to_map)"
   ]
  },
  {
   "cell_type": "code",
   "execution_count": 15,
   "metadata": {},
   "outputs": [
    {
     "data": {
      "text/plain": [
       "4     159\n",
       "6      24\n",
       "5      11\n",
       "8       5\n",
       "2       4\n",
       "12      1\n",
       "3       1\n",
       "Name: num-of-cylinders, dtype: int64"
      ]
     },
     "execution_count": 15,
     "metadata": {},
     "output_type": "execute_result"
    }
   ],
   "source": [
    "cars_numeric['num-of-cylinders'].value_counts()"
   ]
  },
  {
   "cell_type": "code",
   "execution_count": 16,
   "metadata": {},
   "outputs": [],
   "source": [
    "cars_numeric['num-of-cylinders'] = cars_numeric['num-of-cylinders'].astype(int)"
   ]
  },
  {
   "cell_type": "code",
   "execution_count": 17,
   "metadata": {},
   "outputs": [
    {
     "data": {
      "text/plain": [
       "False    164\n",
       "True      41\n",
       "Name: normalized-losses, dtype: int64"
      ]
     },
     "execution_count": 17,
     "metadata": {},
     "output_type": "execute_result"
    }
   ],
   "source": [
    "cars_numeric['normalized-losses'].isnull().value_counts()"
   ]
  },
  {
   "cell_type": "markdown",
   "metadata": {},
   "source": [
    "41 rows are null"
   ]
  },
  {
   "cell_type": "code",
   "execution_count": 18,
   "metadata": {},
   "outputs": [
    {
     "data": {
      "text/plain": [
       "False    201\n",
       "True       4\n",
       "Name: price, dtype: int64"
      ]
     },
     "execution_count": 18,
     "metadata": {},
     "output_type": "execute_result"
    }
   ],
   "source": [
    "#I'm going to check for price values that are null. Since the price is my target\n",
    "#value\n",
    "cars_numeric['price'].isnull().value_counts()"
   ]
  },
  {
   "cell_type": "markdown",
   "metadata": {},
   "source": [
    "I'm going to remove the rows with no price value and then think up something for the other feature's null"
   ]
  },
  {
   "cell_type": "code",
   "execution_count": 19,
   "metadata": {},
   "outputs": [],
   "source": [
    "cars_numeric = cars_numeric[cars_numeric['price'].notna()]\n",
    "#wanted removing price null to affect all other values"
   ]
  },
  {
   "cell_type": "code",
   "execution_count": 20,
   "metadata": {},
   "outputs": [
    {
     "data": {
      "text/plain": [
       "False    201\n",
       "Name: price, dtype: int64"
      ]
     },
     "execution_count": 20,
     "metadata": {},
     "output_type": "execute_result"
    }
   ],
   "source": [
    "#confirming that they're all gone\n",
    "cars_numeric['price'].isnull().value_counts()"
   ]
  },
  {
   "cell_type": "markdown",
   "metadata": {},
   "source": [
    "I'm currently going through the data description of this dataset and decided that symboling is not significant so I'm going to drop it.<br>"
   ]
  },
  {
   "cell_type": "code",
   "execution_count": 21,
   "metadata": {},
   "outputs": [],
   "source": [
    "#since number of doors feature should be an int, I'm going to drop the nulls\n",
    "cars_numeric = cars_numeric[cars_numeric['num-of-doors'].notnull()]"
   ]
  },
  {
   "cell_type": "code",
   "execution_count": 22,
   "metadata": {},
   "outputs": [],
   "source": [
    "cars_numeric = cars_numeric.drop('symboling',axis=1)"
   ]
  },
  {
   "cell_type": "code",
   "execution_count": 23,
   "metadata": {},
   "outputs": [
    {
     "name": "stdout",
     "output_type": "stream",
     "text": [
      "<class 'pandas.core.frame.DataFrame'>\n",
      "Int64Index: 199 entries, 0 to 204\n",
      "Data columns (total 17 columns):\n",
      " #   Column             Non-Null Count  Dtype  \n",
      "---  ------             --------------  -----  \n",
      " 0   normalized-losses  163 non-null    float64\n",
      " 1   num-of-doors       199 non-null    object \n",
      " 2   wheel-base         199 non-null    float64\n",
      " 3   length             199 non-null    float64\n",
      " 4   width              199 non-null    float64\n",
      " 5   height             199 non-null    float64\n",
      " 6   curb-weight        199 non-null    int64  \n",
      " 7   num-of-cylinders   199 non-null    int32  \n",
      " 8   engine-size        199 non-null    int64  \n",
      " 9   bore               195 non-null    float64\n",
      " 10  stroke             195 non-null    float64\n",
      " 11  compression-rate   199 non-null    float64\n",
      " 12  horsepower         197 non-null    float64\n",
      " 13  peak-rpm           197 non-null    float64\n",
      " 14  city-mpg           199 non-null    int64  \n",
      " 15  highway-mpg        199 non-null    int64  \n",
      " 16  price              199 non-null    float64\n",
      "dtypes: float64(11), int32(1), int64(4), object(1)\n",
      "memory usage: 27.2+ KB\n"
     ]
    }
   ],
   "source": [
    "cars_numeric.info()"
   ]
  },
  {
   "cell_type": "code",
   "execution_count": 24,
   "metadata": {},
   "outputs": [
    {
     "data": {
      "text/plain": [
       "four    113\n",
       "two      86\n",
       "Name: num-of-doors, dtype: int64"
      ]
     },
     "execution_count": 24,
     "metadata": {},
     "output_type": "execute_result"
    }
   ],
   "source": [
    "cars_numeric['num-of-doors'].value_counts()"
   ]
  },
  {
   "cell_type": "code",
   "execution_count": 25,
   "metadata": {},
   "outputs": [],
   "source": [
    "cars_numeric['num-of-doors'] = cars_numeric['num-of-doors'].map(to_map)"
   ]
  },
  {
   "cell_type": "code",
   "execution_count": 26,
   "metadata": {},
   "outputs": [],
   "source": [
    "cars_numeric['num-of-doors'] = cars_numeric['num-of-doors'].astype(int)"
   ]
  },
  {
   "cell_type": "code",
   "execution_count": 27,
   "metadata": {},
   "outputs": [
    {
     "data": {
      "text/plain": [
       "161.0    11\n",
       "91.0      8\n",
       "150.0     7\n",
       "104.0     6\n",
       "128.0     6\n",
       "134.0     6\n",
       "102.0     5\n",
       "85.0      5\n",
       "103.0     5\n",
       "168.0     5\n",
       "74.0      5\n",
       "95.0      5\n",
       "94.0      5\n",
       "65.0      5\n",
       "122.0     4\n",
       "118.0     4\n",
       "93.0      4\n",
       "106.0     4\n",
       "148.0     3\n",
       "115.0     3\n",
       "125.0     3\n",
       "83.0      3\n",
       "101.0     3\n",
       "137.0     3\n",
       "154.0     3\n",
       "188.0     2\n",
       "81.0      2\n",
       "192.0     2\n",
       "158.0     2\n",
       "145.0     2\n",
       "113.0     2\n",
       "110.0     2\n",
       "153.0     2\n",
       "129.0     2\n",
       "194.0     2\n",
       "197.0     2\n",
       "87.0      2\n",
       "89.0      2\n",
       "119.0     2\n",
       "164.0     2\n",
       "108.0     2\n",
       "231.0     1\n",
       "107.0     1\n",
       "78.0      1\n",
       "256.0     1\n",
       "98.0      1\n",
       "121.0     1\n",
       "77.0      1\n",
       "142.0     1\n",
       "90.0      1\n",
       "186.0     1\n",
       "Name: normalized-losses, dtype: int64"
      ]
     },
     "execution_count": 27,
     "metadata": {},
     "output_type": "execute_result"
    }
   ],
   "source": [
    "cars_numeric['normalized-losses'].value_counts()"
   ]
  },
  {
   "cell_type": "code",
   "execution_count": 28,
   "metadata": {},
   "outputs": [
    {
     "data": {
      "text/plain": [
       "normalized-losses    36\n",
       "num-of-doors          0\n",
       "wheel-base            0\n",
       "length                0\n",
       "width                 0\n",
       "height                0\n",
       "curb-weight           0\n",
       "num-of-cylinders      0\n",
       "engine-size           0\n",
       "bore                  4\n",
       "stroke                4\n",
       "compression-rate      0\n",
       "horsepower            2\n",
       "peak-rpm              2\n",
       "city-mpg              0\n",
       "highway-mpg           0\n",
       "price                 0\n",
       "dtype: int64"
      ]
     },
     "execution_count": 28,
     "metadata": {},
     "output_type": "execute_result"
    }
   ],
   "source": [
    "cars_numeric.isnull().sum()"
   ]
  },
  {
   "cell_type": "markdown",
   "metadata": {},
   "source": [
    "From research, I discovered that normalized losses column is a value formed by comparing cars together and I'm going to group this column by num of doors column and find each mean and replace nan with these means."
   ]
  },
  {
   "cell_type": "code",
   "execution_count": 29,
   "metadata": {},
   "outputs": [
    {
     "data": {
      "text/plain": [
       "0      138.867647\n",
       "1      138.867647\n",
       "2      138.867647\n",
       "3      109.652632\n",
       "4      109.652632\n",
       "          ...    \n",
       "200    109.652632\n",
       "201    109.652632\n",
       "202    109.652632\n",
       "203    109.652632\n",
       "204    109.652632\n",
       "Name: normalized-losses, Length: 199, dtype: float64"
      ]
     },
     "execution_count": 29,
     "metadata": {},
     "output_type": "execute_result"
    }
   ],
   "source": [
    "cars_losses = cars_numeric.groupby(['num-of-doors'])['normalized-losses'].transform('mean')\n",
    "cars_losses"
   ]
  },
  {
   "cell_type": "code",
   "execution_count": 30,
   "metadata": {},
   "outputs": [],
   "source": [
    "cars_numeric['normalized-losses'].fillna(value=cars_losses, inplace=True)"
   ]
  },
  {
   "cell_type": "code",
   "execution_count": 31,
   "metadata": {},
   "outputs": [
    {
     "data": {
      "text/plain": [
       "0"
      ]
     },
     "execution_count": 31,
     "metadata": {},
     "output_type": "execute_result"
    }
   ],
   "source": [
    "cars_numeric['normalized-losses'].isnull().sum()"
   ]
  },
  {
   "cell_type": "code",
   "execution_count": 32,
   "metadata": {},
   "outputs": [
    {
     "data": {
      "text/plain": [
       "109.652632    18\n",
       "138.867647    18\n",
       "161.000000    11\n",
       "91.000000      8\n",
       "150.000000     7\n",
       "104.000000     6\n",
       "128.000000     6\n",
       "134.000000     6\n",
       "168.000000     5\n",
       "95.000000      5\n",
       "74.000000      5\n",
       "102.000000     5\n",
       "85.000000      5\n",
       "65.000000      5\n",
       "94.000000      5\n",
       "103.000000     5\n",
       "122.000000     4\n",
       "106.000000     4\n",
       "93.000000      4\n",
       "118.000000     4\n",
       "101.000000     3\n",
       "115.000000     3\n",
       "137.000000     3\n",
       "148.000000     3\n",
       "125.000000     3\n",
       "154.000000     3\n",
       "83.000000      3\n",
       "108.000000     2\n",
       "87.000000      2\n",
       "158.000000     2\n",
       "192.000000     2\n",
       "188.000000     2\n",
       "81.000000      2\n",
       "110.000000     2\n",
       "145.000000     2\n",
       "197.000000     2\n",
       "194.000000     2\n",
       "164.000000     2\n",
       "89.000000      2\n",
       "113.000000     2\n",
       "129.000000     2\n",
       "119.000000     2\n",
       "153.000000     2\n",
       "107.000000     1\n",
       "77.000000      1\n",
       "186.000000     1\n",
       "90.000000      1\n",
       "256.000000     1\n",
       "98.000000      1\n",
       "121.000000     1\n",
       "142.000000     1\n",
       "231.000000     1\n",
       "78.000000      1\n",
       "Name: normalized-losses, dtype: int64"
      ]
     },
     "execution_count": 32,
     "metadata": {},
     "output_type": "execute_result"
    }
   ],
   "source": [
    "cars_numeric['normalized-losses'].value_counts()"
   ]
  },
  {
   "cell_type": "markdown",
   "metadata": {},
   "source": [
    "I'm going to fill other null values with the mean of the columns"
   ]
  },
  {
   "cell_type": "code",
   "execution_count": 33,
   "metadata": {},
   "outputs": [],
   "source": [
    "cars_numeric.fillna(cars_numeric.mean(), inplace=True)"
   ]
  },
  {
   "cell_type": "code",
   "execution_count": 34,
   "metadata": {},
   "outputs": [
    {
     "data": {
      "text/plain": [
       "normalized-losses    0\n",
       "num-of-doors         0\n",
       "wheel-base           0\n",
       "length               0\n",
       "width                0\n",
       "height               0\n",
       "curb-weight          0\n",
       "num-of-cylinders     0\n",
       "engine-size          0\n",
       "bore                 0\n",
       "stroke               0\n",
       "compression-rate     0\n",
       "horsepower           0\n",
       "peak-rpm             0\n",
       "city-mpg             0\n",
       "highway-mpg          0\n",
       "price                0\n",
       "dtype: int64"
      ]
     },
     "execution_count": 34,
     "metadata": {},
     "output_type": "execute_result"
    }
   ],
   "source": [
    "cars_numeric.isnull().sum()"
   ]
  },
  {
   "cell_type": "markdown",
   "metadata": {
    "collapsed": true
   },
   "source": [
    "I'm going to create a new feature called combined mpg which would contain 55% of city-mpg and 45% of highway-mpg.<br>\n",
    "Then I would drop both city and highway-mpg"
   ]
  },
  {
   "cell_type": "code",
   "execution_count": 35,
   "metadata": {},
   "outputs": [],
   "source": [
    "#creating the new feature\n",
    "cars_numeric['combined-mpg']= (cars_numeric['city-mpg']*0.55)+(cars_numeric['highway-mpg']*0.45)"
   ]
  },
  {
   "cell_type": "code",
   "execution_count": 36,
   "metadata": {},
   "outputs": [],
   "source": [
    "#droping the two previous features\n",
    "cars_numeric = cars_numeric.drop(['city-mpg','highway-mpg'], axis=1)"
   ]
  },
  {
   "cell_type": "code",
   "execution_count": 37,
   "metadata": {},
   "outputs": [],
   "source": [
    "#great!, now it's time to normalize all the features except the target column, price\n",
    "price_col = cars_numeric['price']\n",
    "normalized_cars = (cars_numeric - cars_numeric.min())/(cars_numeric.max()-cars_numeric.min())\n",
    "normalized_cars['price'] = price_col"
   ]
  },
  {
   "cell_type": "code",
   "execution_count": 38,
   "metadata": {},
   "outputs": [
    {
     "name": "stdout",
     "output_type": "stream",
     "text": [
      "<class 'pandas.core.frame.DataFrame'>\n",
      "Int64Index: 199 entries, 0 to 204\n",
      "Data columns (total 16 columns):\n",
      " #   Column             Non-Null Count  Dtype  \n",
      "---  ------             --------------  -----  \n",
      " 0   normalized-losses  199 non-null    float64\n",
      " 1   num-of-doors       199 non-null    float64\n",
      " 2   wheel-base         199 non-null    float64\n",
      " 3   length             199 non-null    float64\n",
      " 4   width              199 non-null    float64\n",
      " 5   height             199 non-null    float64\n",
      " 6   curb-weight        199 non-null    float64\n",
      " 7   num-of-cylinders   199 non-null    float64\n",
      " 8   engine-size        199 non-null    float64\n",
      " 9   bore               199 non-null    float64\n",
      " 10  stroke             199 non-null    float64\n",
      " 11  compression-rate   199 non-null    float64\n",
      " 12  horsepower         199 non-null    float64\n",
      " 13  peak-rpm           199 non-null    float64\n",
      " 14  price              199 non-null    float64\n",
      " 15  combined-mpg       199 non-null    float64\n",
      "dtypes: float64(16)\n",
      "memory usage: 26.4 KB\n"
     ]
    }
   ],
   "source": [
    "#checking my columns\n",
    "normalized_cars.info()"
   ]
  },
  {
   "cell_type": "markdown",
   "metadata": {},
   "source": [
    "# UNIVARIATE K-NEAREST NEIGHBORS MODELS"
   ]
  },
  {
   "cell_type": "code",
   "execution_count": 39,
   "metadata": {},
   "outputs": [
    {
     "data": {
      "text/plain": [
       "engine-size          3143.482717\n",
       "curb-weight          3927.282146\n",
       "combined-mpg         4243.906599\n",
       "horsepower           4278.831582\n",
       "wheel-base           4742.033500\n",
       "width                4953.262748\n",
       "length               5203.496866\n",
       "num-of-cylinders     5411.928223\n",
       "peak-rpm             5983.115081\n",
       "compression-rate     6418.044726\n",
       "height               7058.874059\n",
       "normalized-losses    7071.095702\n",
       "bore                 7272.187241\n",
       "stroke               7650.940272\n",
       "num-of-doors         7677.389125\n",
       "dtype: float64"
      ]
     },
     "execution_count": 39,
     "metadata": {},
     "output_type": "execute_result"
    }
   ],
   "source": [
    "def knn_train_test(df, train_col, target_col):\n",
    "    #shuffling the data\n",
    "    np.random.seed(1)\n",
    "    shuffled_index = np.random.permutation(df.index)\n",
    "    shuffled_df = df.reindex(shuffled_index)\n",
    "    #shuffled_df = shuffled_df.drop([0], axis=0)\n",
    "    \n",
    "    #spliting the dataset into train and test set\n",
    "    split_value = int(len(shuffled_df)/2)\n",
    "    train_set = shuffled_df.iloc[0:split_value]\n",
    "    test_set = shuffled_df.iloc[split_value:]\n",
    "    \n",
    "    #training and predicting\n",
    "    knn = KNeighborsRegressor()\n",
    "    knn.fit(train_set[[train_col]], train_set[target_col])\n",
    "    predictions = knn.predict(test_set[[train_col]])\n",
    "    mse = mean_squared_error(test_set[target_col], predictions)\n",
    "    rsme = np.sqrt(mse)\n",
    "    return rsme\n",
    "\n",
    "# training all the numeric columns in normalized_cars using knn_train_test function\n",
    "target_col = normalized_cars.columns.drop('price')\n",
    "rmses = {}\n",
    "for col in target_col:\n",
    "    rmse_val = knn_train_test(normalized_cars, col, 'price')\n",
    "    rmses[col]=rmse_val\n",
    "\n",
    "#creating a Series to be able to view this easily and also sort the values\n",
    "rmse_results = pd.Series(rmses)\n",
    "rmse_results.sort_values()"
   ]
  },
  {
   "cell_type": "code",
   "execution_count": 40,
   "metadata": {
    "scrolled": true
   },
   "outputs": [
    {
     "data": {
      "text/plain": [
       "{'normalized-losses': {1: 8708.383449871739,\n",
       "  3: 7172.307002321886,\n",
       "  5: 7071.095701629274,\n",
       "  7: 7172.9445463562615,\n",
       "  9: 7150.876855133498},\n",
       " 'num-of-doors': {1: 8141.798126335484,\n",
       "  3: 7387.716968725859,\n",
       "  5: 7677.389125373286,\n",
       "  7: 7769.642855277932,\n",
       "  9: 7622.4047118419985},\n",
       " 'wheel-base': {1: 3706.7955217411168,\n",
       "  3: 4783.151470874965,\n",
       "  5: 4742.033500050375,\n",
       "  7: 4682.74771039223,\n",
       "  9: 4833.392740286253},\n",
       " 'length': {1: 5781.317550524275,\n",
       "  3: 5067.709409475733,\n",
       "  5: 5203.496865570306,\n",
       "  7: 5131.565685986279,\n",
       "  9: 5089.239565913484},\n",
       " 'width': {1: 5214.673562170503,\n",
       "  3: 5542.386583012371,\n",
       "  5: 4953.262747724978,\n",
       "  7: 4626.0404051413125,\n",
       "  9: 4541.70680619707},\n",
       " 'height': {1: 8754.26538894041,\n",
       "  3: 7229.875071150569,\n",
       "  5: 7058.87405908336,\n",
       "  7: 6985.003762507568,\n",
       "  9: 6874.649825030372},\n",
       " 'curb-weight': {1: 5433.313512949533,\n",
       "  3: 4193.787606289411,\n",
       "  5: 3927.2821462685874,\n",
       "  7: 3570.5184768133195,\n",
       "  9: 3802.0896407010086},\n",
       " 'num-of-cylinders': {1: 7986.3742067348685,\n",
       "  3: 5563.240904564732,\n",
       "  5: 5411.928222879531,\n",
       "  7: 5668.851902083446,\n",
       "  9: 5713.115837026583},\n",
       " 'engine-size': {1: 4561.208194108223,\n",
       "  3: 3868.9044863429285,\n",
       "  5: 3143.4827168603933,\n",
       "  7: 3146.733184476516,\n",
       "  9: 3442.1887326396136},\n",
       " 'bore': {1: 6314.491608197765,\n",
       "  3: 7963.228772719433,\n",
       "  5: 7272.187240741262,\n",
       "  7: 6400.850910095103,\n",
       "  9: 6379.453417064336},\n",
       " 'stroke': {1: 8051.8935654912875,\n",
       "  3: 7469.959134798231,\n",
       "  5: 7650.940271705171,\n",
       "  7: 7994.394773342183,\n",
       "  9: 7711.3818364019635},\n",
       " 'compression-rate': {1: 7300.473488754,\n",
       "  3: 5933.192373793761,\n",
       "  5: 6418.044725771238,\n",
       "  7: 6182.92064824133,\n",
       "  9: 6412.985460015512},\n",
       " 'horsepower': {1: 4637.662997674583,\n",
       "  3: 4301.961676827083,\n",
       "  5: 4278.831582242984,\n",
       "  7: 4548.151420733303,\n",
       "  9: 4475.203151206423},\n",
       " 'peak-rpm': {1: 7358.696910459079,\n",
       "  3: 5666.352348243484,\n",
       "  5: 5983.1150808922275,\n",
       "  7: 6181.853668700392,\n",
       "  9: 6171.792932645812},\n",
       " 'combined-mpg': {1: 4780.037310523841,\n",
       "  3: 4078.9894072483744,\n",
       "  5: 4243.906598500961,\n",
       "  7: 4240.544582181561,\n",
       "  9: 4346.092390517439}}"
      ]
     },
     "execution_count": 40,
     "metadata": {},
     "output_type": "execute_result"
    }
   ],
   "source": [
    "def knn_train_test(df, train_col, target_col):\n",
    "    #shuffling the data\n",
    "    np.random.seed(1)\n",
    "    shuffled_index = np.random.permutation(df.index)\n",
    "    shuffled_df = df.reindex(shuffled_index)\n",
    "    #shuffled_df = shuffled_df.drop([0], axis=0)\n",
    "    \n",
    "    #spliting the dataset into train and test set\n",
    "    split_value = int(len(shuffled_df)/2)\n",
    "    train_set = shuffled_df.iloc[0:split_value]\n",
    "    test_set = shuffled_df.iloc[split_value:]\n",
    "    \n",
    "    k_values = [1, 3, 5, 7, 9]\n",
    "    k_rmses = {}\n",
    "    \n",
    "    #training and predicting\n",
    "    for k in k_values:\n",
    "        knn = KNeighborsRegressor(n_neighbors=k)\n",
    "        knn.fit(train_set[[train_col]], train_set[target_col])\n",
    "        predictions = knn.predict(test_set[[train_col]])\n",
    "        mse = mean_squared_error(test_set[target_col], predictions)\n",
    "        rmse = np.sqrt(mse)\n",
    "        k_rmses[k] = rmse\n",
    "    return k_rmses\n",
    "\n",
    "# training all the numeric columns in normalized_cars using knn_train_test function\n",
    "target_cols = normalized_cars.columns.drop('price')\n",
    "k_rmses_target = {}\n",
    "for cols in target_cols:\n",
    "    rmse_vals = knn_train_test(normalized_cars, cols, 'price')\n",
    "    k_rmses_target[cols]=rmse_vals\n",
    "\n",
    "k_rmses_target"
   ]
  },
  {
   "cell_type": "code",
   "execution_count": 41,
   "metadata": {},
   "outputs": [
    {
     "data": {
      "image/png": "[encoded data removed]",
      "text/plain": [
       "<Figure size 432x288 with 1 Axes>"
      ]
     },
     "metadata": {
      "needs_background": "light"
     },
     "output_type": "display_data"
    }
   ],
   "source": [
    "import matplotlib.pyplot as plt\n",
    "%matplotlib inline\n",
    "\n",
    "for k,v in sorted(k_rmses_target.items()):\n",
    "    x = list(v.keys())\n",
    "    y = list(v.values())\n",
    "    \n",
    "    plt.plot(x,y, \"\", markersize=20)\n",
    "    plt.xlabel('k value')\n",
    "    plt.ylabel('RMSE')\n",
    "    #lt.legend(label)\n",
    "    #print(label)\n",
    "    "
   ]
  },
  {
   "cell_type": "markdown",
   "metadata": {
    "collapsed": true
   },
   "source": [
    "# MULTIVARIATE MODEL"
   ]
  },
  {
   "cell_type": "markdown",
   "metadata": {},
   "source": [
    "Need to find the average of k_rmses_target in order to find the best features and be able to use it to rain the multivariate k-nearest neighbors model"
   ]
  },
  {
   "cell_type": "code",
   "execution_count": 42,
   "metadata": {},
   "outputs": [
    {
     "name": "stdout",
     "output_type": "stream",
     "text": [
      "engine-size          3632.503463\n",
      "curb-weight          4185.398277\n",
      "combined-mpg         4337.914058\n",
      "horsepower           4448.362166\n",
      "wheel-base           4549.624189\n",
      "width                4975.614021\n",
      "length               5254.665815\n",
      "num-of-cylinders     6068.702215\n",
      "peak-rpm             6272.362188\n",
      "compression-rate     6449.523339\n",
      "bore                 6866.042390\n",
      "height               7380.533621\n",
      "normalized-losses    7455.121511\n",
      "num-of-doors         7719.790358\n",
      "stroke               7775.713916\n",
      "dtype: float64\n"
     ]
    }
   ],
   "source": [
    "k_rmses_avg={}\n",
    "for k, v in k_rmses_target.items():\n",
    "    k_rmses_avg[k] = np.mean(list(v.values()))\n",
    "\n",
    "\n",
    "k_rmses_series = pd.Series(k_rmses_avg).sort_values()\n",
    "print(k_rmses_series)\n",
    "sorted_features = k_rmses_series.index"
   ]
  },
  {
   "cell_type": "code",
   "execution_count": 43,
   "metadata": {},
   "outputs": [
    {
     "data": {
      "text/plain": [
       "2    3021.070316\n",
       "4    3315.773337\n",
       "3    3445.602991\n",
       "6    3500.538206\n",
       "5    3569.982342\n",
       "dtype: float64"
      ]
     },
     "execution_count": 43,
     "metadata": {},
     "output_type": "execute_result"
    }
   ],
   "source": [
    "def knn_train_test(df, train_col, target_col):\n",
    "    #shuffling the data\n",
    "    np.random.seed(1)\n",
    "    shuffled_index = np.random.permutation(df.index)\n",
    "    shuffled_df = df.reindex(shuffled_index)\n",
    "    #shuffled_df = shuffled_df.drop([0], axis=0)\n",
    "    \n",
    "    #spliting the dataset into train and test set\n",
    "    split_value = int(len(shuffled_df)/2)\n",
    "    train_set = shuffled_df.iloc[0:split_value]\n",
    "    test_set = shuffled_df.iloc[split_value:]\n",
    "    \n",
    "    #training and predicting\n",
    "    knn = KNeighborsRegressor()\n",
    "    knn.fit(train_set[train_col], train_set[target_col])\n",
    "    predictions = knn.predict(test_set[train_col])\n",
    "    mse = mean_squared_error(test_set[target_col], predictions)\n",
    "    rsme = np.sqrt(mse)\n",
    "    return rsme\n",
    "\n",
    "# training all the numeric columns in normalized_cars using knn_train_test function\n",
    "\n",
    "rmses = {}\n",
    "for i in range(2,7):\n",
    "    col = sorted_features[:i]\n",
    "    rmse_val = knn_train_test(normalized_cars, col, 'price')\n",
    "    rmses[i]=rmse_val\n",
    "\n",
    "#creating a Series to be able to view this easily and also sort the values\n",
    "rmse_results = pd.Series(rmses).sort_values()\n",
    "#rmse_results.index=['engine-size','curb-weight','combined-mpg','horsepower','wheel-base']\n",
    "rmse_results"
   ]
  },
  {
   "cell_type": "markdown",
   "metadata": {},
   "source": [
    "# HYPERPARAMETER TUNING"
   ]
  },
  {
   "cell_type": "code",
   "execution_count": 44,
   "metadata": {},
   "outputs": [
    {
     "data": {
      "text/plain": [
       "{2: {1: 3438.1506686007815,\n",
       "  2: 2734.5756005274384,\n",
       "  3: 3071.9522175103357,\n",
       "  4: 2855.0260794561927,\n",
       "  5: 3021.0703163614053,\n",
       "  6: 3139.5141360213333,\n",
       "  7: 3165.4092952296915,\n",
       "  8: 3265.2613269987673,\n",
       "  9: 3481.554228278578,\n",
       "  10: 3620.6892542580895,\n",
       "  11: 3666.5217321367954,\n",
       "  12: 3790.9544269971707,\n",
       "  13: 3866.2181554386952,\n",
       "  14: 3845.709516441269,\n",
       "  15: 3932.5463532423873,\n",
       "  16: 3938.298388630631,\n",
       "  17: 3867.6462043702923,\n",
       "  18: 3897.1337753882153,\n",
       "  19: 3953.1170113155463,\n",
       "  20: 3978.763182061104,\n",
       "  21: 4025.198233284115,\n",
       "  22: 4077.0618550592703,\n",
       "  23: 4106.686989150988,\n",
       "  24: 4162.628447830469,\n",
       "  25: 4215.768603816865},\n",
       " 4: {1: 3830.7768076461984,\n",
       "  2: 3581.685805594902,\n",
       "  3: 3683.9483163825435,\n",
       "  4: 3325.372903901155,\n",
       "  5: 3315.773337066332,\n",
       "  6: 3360.9398072645627,\n",
       "  7: 3457.653228885813,\n",
       "  8: 3605.0751763789544,\n",
       "  9: 3682.533955841537,\n",
       "  10: 3786.2890911154686,\n",
       "  11: 3744.264359695941,\n",
       "  12: 3675.39940404252,\n",
       "  13: 3748.3850336160353,\n",
       "  14: 3795.56907433671,\n",
       "  15: 3886.7058377442913,\n",
       "  16: 3897.891833113927,\n",
       "  17: 3965.450408619176,\n",
       "  18: 3981.377734776657,\n",
       "  19: 4020.1985837032944,\n",
       "  20: 4067.8577706668902,\n",
       "  21: 4065.879829706543,\n",
       "  22: 4032.484677910463,\n",
       "  23: 4047.6577756069005,\n",
       "  24: 4061.178395593246,\n",
       "  25: 4081.364029143198},\n",
       " 3: {1: 3889.381809491066,\n",
       "  2: 3746.6388627008073,\n",
       "  3: 3419.3862587702297,\n",
       "  4: 3493.530255701244,\n",
       "  5: 3445.602990943675,\n",
       "  6: 3285.529501296388,\n",
       "  7: 3315.219174273307,\n",
       "  8: 3305.7204840151717,\n",
       "  9: 3479.189126208278,\n",
       "  10: 3649.9051267121995,\n",
       "  11: 3682.453136180457,\n",
       "  12: 3782.95129774507,\n",
       "  13: 3696.203171991369,\n",
       "  14: 3691.663156349585,\n",
       "  15: 3775.640289993503,\n",
       "  16: 3841.5735336160997,\n",
       "  17: 3887.820327042303,\n",
       "  18: 3946.9819576027926,\n",
       "  19: 4037.3533056067345,\n",
       "  20: 4118.647278124215,\n",
       "  21: 4118.419089871573,\n",
       "  22: 4136.1219228901355,\n",
       "  23: 4080.83784781632,\n",
       "  24: 4116.055292445517,\n",
       "  25: 4140.2957294125745}}"
      ]
     },
     "execution_count": 44,
     "metadata": {},
     "output_type": "execute_result"
    }
   ],
   "source": [
    "def knn_train_test(df, train_col, target_col):\n",
    "    #shuffling the data\n",
    "    np.random.seed(1)\n",
    "    shuffled_index = np.random.permutation(df.index)\n",
    "    shuffled_df = df.reindex(shuffled_index)\n",
    "    #shuffled_df = shuffled_df.drop([0], axis=0)\n",
    "    \n",
    "    #spliting the dataset into train and test set\n",
    "    split_value = int(len(shuffled_df)/2)\n",
    "    train_set = shuffled_df.iloc[0:split_value]\n",
    "    test_set = shuffled_df.iloc[split_value:]\n",
    "    \n",
    "    hyper_params = list(range(1,26))\n",
    "    k_rmses = {}\n",
    "    \n",
    "    #training and predicting\n",
    "    for k in hyper_params:\n",
    "        knn = KNeighborsRegressor(n_neighbors=k)\n",
    "        knn.fit(train_set[train_col], train_set[target_col])\n",
    "        predictions = knn.predict(test_set[train_col])\n",
    "        mse = mean_squared_error(test_set[target_col], predictions)\n",
    "        rmse = np.sqrt(mse)\n",
    "        k_rmses[k] = rmse\n",
    "    return k_rmses\n",
    "\n",
    "# training all the numeric columns in normalized_cars using knn_train_test function\n",
    "rmses_b = {}\n",
    "for i in [2,4,3]:\n",
    "    col = sorted_features[:i]\n",
    "    rmse_val = knn_train_test(normalized_cars, col, 'price')\n",
    "    rmses_b[i]=rmse_val\n",
    "    \n",
    "rmses_b"
   ]
  },
  {
   "cell_type": "code",
   "execution_count": 45,
   "metadata": {},
   "outputs": [
    {
     "data": {
      "image/png": "[encoded data removed]",
      "text/plain": [
       "<Figure size 432x288 with 1 Axes>"
      ]
     },
     "metadata": {
      "needs_background": "light"
     },
     "output_type": "display_data"
    }
   ],
   "source": [
    "%matplotlib inline\n",
    "for k,v in rmses_b.items():\n",
    "    x = list(v.keys())\n",
    "    y = list(v.values())\n",
    "    \n",
    "    \n",
    "    plt.plot(x,y)\n",
    "    plt.xlabel('Hyperarameters')\n",
    "    plt.ylabel('Models')\n",
    "    plt.legend([2,3,4])"
   ]
  },
  {
   "cell_type": "markdown",
   "metadata": {},
   "source": [
    "For the model with two features, the optimal k value is 2<br>\n",
    "For the model with three features, the optimal k value is 6<br>\n",
    "For the model with four features, the optimal k value is 5<br>"
   ]
  },
  {
   "cell_type": "code",
   "execution_count": null,
   "metadata": {},
   "outputs": [],
   "source": []
  }
 ],
 "metadata": {
  "kernelspec": {
   "display_name": "Python 3",
   "language": "python",
   "name": "python3"
  },
  "language_info": {
   "codemirror_mode": {
    "name": "ipython",
    "version": 3
   },
   "file_extension": ".py",
   "mimetype": "text/x-python",
   "name": "python",
   "nbconvert_exporter": "python",
   "pygments_lexer": "ipython3",
   "version": "3.7.3"
  }
 },
 "nbformat": 4,
 "nbformat_minor": 2
}
